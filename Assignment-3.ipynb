{
 "cells": [
  {
   "cell_type": "code",
   "execution_count": 1,
   "metadata": {},
   "outputs": [
    {
     "name": "stdout",
     "output_type": "stream",
     "text": [
      "0.0303030303030303\n"
     ]
    }
   ],
   "source": [
    "def probability(pA, pB, pAB):\n",
    "    pBA = pAB * pB / pA\n",
    "    return pBA\n",
    "result = probability(11/36 , 6/36 , 2/36)\n",
    "print(result)"
   ]
  },
  {
   "cell_type": "code",
   "execution_count": 2,
   "metadata": {},
   "outputs": [
    {
     "name": "stdout",
     "output_type": "stream",
     "text": [
      "0.4166666666666667\n"
     ]
    }
   ],
   "source": [
    "def prob(pBag1 ,pBag2, pBlackBag1, pBlackBag2):\n",
    "    pBag2Black = pBag2 * pBlackBag2 / (pBag2 * pBlackBag2 + pBag1* pBlackBag1) \n",
    "    return pBag2Black\n",
    "pBag1 = pBag2 =1/2\n",
    "pBlackBag1 = 6/10\n",
    "pBlackBag2 = 3/7\n",
    "result = prob(pBag1 ,pBag2, pBlackBag1, pBlackBag2)\n",
    "print(result)"
   ]
  },
  {
   "cell_type": "code",
   "execution_count": 3,
   "metadata": {},
   "outputs": [
    {
     "name": "stdout",
     "output_type": "stream",
     "text": [
      "0.2857142857142857\n"
     ]
    }
   ],
   "source": [
    "def prob(pTruth,pLie,pFour,pNotFour):\n",
    "    pTruthFour = pFour * pTruth / (pTruth*pFour + pLie*pNotFour)\n",
    "    return pTruthFour\n",
    "    \n",
    "pTruth = 2/3\n",
    "pLie = 1/3\n",
    "pFour = 1/6\n",
    "pNotFour = 5/6\n",
    "\n",
    "result = prob(pTruth,pLie,pFour,pNotFour)\n",
    "print(result)"
   ]
  },
  {
   "cell_type": "code",
   "execution_count": null,
   "metadata": {},
   "outputs": [],
   "source": []
  }
 ],
 "metadata": {
  "kernelspec": {
   "display_name": "Python 3",
   "language": "python",
   "name": "python3"
  },
  "language_info": {
   "codemirror_mode": {
    "name": "ipython",
    "version": 3
   },
   "file_extension": ".py",
   "mimetype": "text/x-python",
   "name": "python",
   "nbconvert_exporter": "python",
   "pygments_lexer": "ipython3",
   "version": "3.6.5"
  }
 },
 "nbformat": 4,
 "nbformat_minor": 2
}
